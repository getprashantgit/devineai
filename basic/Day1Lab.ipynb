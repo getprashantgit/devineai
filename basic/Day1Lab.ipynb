{
  "nbformat": 4,
  "nbformat_minor": 0,
  "metadata": {
    "colab": {
      "name": "Day1Lab.ipynb",
      "provenance": [],
      "authorship_tag": "ABX9TyO0ZzUzk6AQthLOzFHZquh+",
      "include_colab_link": true
    },
    "kernelspec": {
      "name": "python3",
      "display_name": "Python 3"
    },
    "language_info": {
      "name": "python"
    }
  },
  "cells": [
    {
      "cell_type": "markdown",
      "metadata": {
        "id": "view-in-github",
        "colab_type": "text"
      },
      "source": [
        "<a href=\"https://colab.research.google.com/github/getprashantgit/devineai/blob/main/basic/Day1Lab.ipynb\" target=\"_parent\"><img src=\"https://colab.research.google.com/assets/colab-badge.svg\" alt=\"Open In Colab\"/></a>"
      ]
    },
    {
      "cell_type": "code",
      "metadata": {
        "colab": {
          "base_uri": "https://localhost:8080/"
        },
        "id": "YgSFPb-4My1u",
        "outputId": "ab786144-f2f7-45fa-dbb1-bed1a1ad6c26"
      },
      "source": [
        "print(type(5))\n",
        "print(type(5.0))\n",
        "\n",
        "x, y = 22, 11\n",
        "print(x, y)\n",
        "\n",
        "x, y = y, x\n",
        "print(x, y)"
      ],
      "execution_count": 2,
      "outputs": [
        {
          "output_type": "stream",
          "text": [
            "<class 'int'>\n",
            "<class 'float'>\n",
            "22 11\n",
            "11 22\n"
          ],
          "name": "stdout"
        }
      ]
    },
    {
      "cell_type": "code",
      "metadata": {
        "id": "BrrfEu_HM9w5"
      },
      "source": [
        ""
      ],
      "execution_count": null,
      "outputs": []
    },
    {
      "cell_type": "markdown",
      "metadata": {
        "id": "QuNwKPVQOA4W"
      },
      "source": [
        "Numopeter\n"
      ]
    },
    {
      "cell_type": "code",
      "metadata": {
        "colab": {
          "base_uri": "https://localhost:8080/",
          "height": 119
        },
        "id": "DUMB3McUOHn7",
        "outputId": "cbc4e494-109d-48a5-ae62-8da51e6308bf"
      },
      "source": [
        "divisor, divident = 4, 3\n",
        "ans = divident / divisor\n",
        "print(ans)\n",
        "a, b, c, d = 2, 3, 4, 5\n",
        "\n",
        "ans = a + b * c / d\n",
        "print(ans)\n",
        "\n",
        "# ** is power\n",
        "exp = a ** b\n",
        "print(exp)\n",
        "\n",
        "mod = b % a\n",
        "print(mod)\n",
        "\n",
        "# // returns integer division result\n",
        "intDiv = d // a\n",
        "# / returns float division result\n",
        "div = d / a\n",
        "print(div, intDiv)\n",
        "\n",
        "\n",
        "'''\n",
        "PEMDAS\n",
        "Parentheses\n",
        "Exponents\n",
        "Multiplication\n",
        "Division\n",
        "Addition\n",
        "Subtraction\n",
        "'''"
      ],
      "execution_count": 3,
      "outputs": [
        {
          "output_type": "stream",
          "text": [
            "0.75\n",
            "4.4\n",
            "8\n",
            "1\n",
            "2.5 2\n"
          ],
          "name": "stdout"
        },
        {
          "output_type": "execute_result",
          "data": {
            "application/vnd.google.colaboratory.intrinsic+json": {
              "type": "string"
            },
            "text/plain": [
              "'\\nPEMDAS\\nParentheses\\nExponents\\nMultiplication\\nDivision\\nAddition\\nSubtraction\\n'"
            ]
          },
          "metadata": {
            "tags": []
          },
          "execution_count": 3
        }
      ]
    },
    {
      "cell_type": "markdown",
      "metadata": {
        "id": "WvQfJaIJP4sW"
      },
      "source": [
        "variable1"
      ]
    },
    {
      "cell_type": "code",
      "metadata": {
        "colab": {
          "base_uri": "https://localhost:8080/"
        },
        "id": "aIudEUjcPRja",
        "outputId": "0bc2e28c-141e-4dbe-945b-ff4b8b701a11"
      },
      "source": [
        "num = 77\n",
        "print(num * 2)\n",
        "print(num)\n",
        "\n",
        "num *= 2\n",
        "print(num)\n",
        "\n",
        "#Naming Convension\n",
        "#snake_case\n",
        "snake_case = 20\n",
        "\n",
        "#for constants\n",
        "CAPITAL_SNAKE_CASE, PI = 100, 3.14159603\n",
        "#for class\n",
        "class UpperCamelCase:\n",
        "    pass"
      ],
      "execution_count": 5,
      "outputs": [
        {
          "output_type": "stream",
          "text": [
            "154\n",
            "77\n",
            "154\n"
          ],
          "name": "stdout"
        }
      ]
    },
    {
      "cell_type": "markdown",
      "metadata": {
        "id": "3Jr9OuasUDlr"
      },
      "source": [
        "var datatypes\n"
      ]
    },
    {
      "cell_type": "code",
      "metadata": {
        "colab": {
          "base_uri": "https://localhost:8080/"
        },
        "id": "_jfRjEqmPuJx",
        "outputId": "50ebfeb6-73ed-4aa4-e09b-25549e2e18e8"
      },
      "source": [
        "'''\n",
        "bool\n",
        "int\n",
        "str\n",
        "list\n",
        "dict\n",
        "'''\n",
        "\n",
        "#bool\n",
        "is_active = True\n",
        "inactive = not is_active\n",
        "print(is_active)\n",
        "print(not is_active)\n",
        "print(inactive)\n",
        "print(not inactive)\n",
        "\n",
        "#str\n",
        "some_string = \"hello i am code with divine!\"\n",
        "print(some_string)\n",
        "\n",
        "#list\n",
        "my_number = [1, 5, 4, 2]\n",
        "print(my_number)\n",
        "print(my_number[2])\n",
        "\n",
        "#dict\n",
        "my_name = {'first_name': \"Jai Shree  \", 'last_name': \"ram\"}\n",
        "print(my_name)\n",
        "print(my_name['first_name'])\n",
        "print(my_name['last_name'])"
      ],
      "execution_count": 9,
      "outputs": [
        {
          "output_type": "stream",
          "text": [
            "True\n",
            "False\n",
            "False\n",
            "True\n",
            "hello i am code with divine!\n",
            "[1, 5, 4, 2]\n",
            "4\n",
            "{'first_name': 'Jai Shree  ', 'last_name': 'ram'}\n",
            "Jai Shree  \n",
            "ram\n"
          ],
          "name": "stdout"
        }
      ]
    },
    {
      "cell_type": "code",
      "metadata": {
        "id": "tRpf2opIVEPD"
      },
      "source": [
        ""
      ],
      "execution_count": null,
      "outputs": []
    },
    {
      "cell_type": "markdown",
      "metadata": {
        "id": "n6VnAekCVhwm"
      },
      "source": [
        "daynmic data\n"
      ]
    },
    {
      "cell_type": "code",
      "metadata": {
        "colab": {
          "base_uri": "https://localhost:8080/"
        },
        "id": "u4k7kbyfVjoD",
        "outputId": "13dd35b2-6f99-4d08-c63e-2235e037789b"
      },
      "source": [
        "game_over = True\n",
        "print(game_over)\n",
        "\n",
        "game_over = \"Yes, it's Not over!\"\n",
        "print(game_over)\n",
        "\n",
        "game_over = 22/7\n",
        "print(game_over)\n",
        "\n",
        "#None is nothing\n",
        "game_over = None\n",
        "print(game_over)\n",
        "print(type(game_over))"
      ],
      "execution_count": 10,
      "outputs": [
        {
          "output_type": "stream",
          "text": [
            "True\n",
            "Yes, it's over!\n",
            "3.142857142857143\n",
            "None\n",
            "<class 'NoneType'>\n"
          ],
          "name": "stdout"
        }
      ]
    },
    {
      "cell_type": "markdown",
      "metadata": {
        "id": "oLChJL1eWBB_"
      },
      "source": [
        "string "
      ]
    },
    {
      "cell_type": "code",
      "metadata": {
        "colab": {
          "base_uri": "https://localhost:8080/"
        },
        "id": "hLVsyy5zVonP",
        "outputId": "ea37d1eb-9af5-4cc2-bebe-7e7bfb267acc"
      },
      "source": [
        "single_qoute = 'hello check'\n",
        "double_qoute = \"hello check\"\n",
        "print(single_qoute)\n",
        "print(double_qoute)\n",
        "\n",
        "qoute = 'he said, \"hello check!\"'\n",
        "print(qoute)\n",
        "qoute = \"he said, 'hello check'\"\n",
        "print(qoute)\n",
        "\n",
        "qoute = \"he said, \\\"hello check!\\\"\"\n",
        "print(qoute)\n",
        "\n",
        "#string concatenation\n",
        "username = \"mhkm\"\n",
        "msg = \"Hello \" + username\n",
        "print(msg)\n",
        "\n",
        "#Formatting String\n",
        "name = \"Ramji\"\n",
        "msg = f\"Hello Mr. {name} Welcome!\"\n",
        "msg2 = \"Hello Mr. {} Welcome!\".format(name)\n",
        "print(msg)\n",
        "print(msg2)"
      ],
      "execution_count": 11,
      "outputs": [
        {
          "output_type": "stream",
          "text": [
            "hello check\n",
            "hello check\n",
            "he said, \"hello check!\"\n",
            "he said, 'hello check'\n",
            "he said, \"hello check!\"\n",
            "Hello mhkm\n",
            "Hello Mr. Ramji Welcome!\n",
            "Hello Mr. Ramji Welcome!\n"
          ],
          "name": "stdout"
        }
      ]
    },
    {
      "cell_type": "markdown",
      "metadata": {
        "id": "bsucj-t-Xh9s"
      },
      "source": [
        "convert data types"
      ]
    },
    {
      "cell_type": "markdown",
      "metadata": {
        "id": "Gp-7khglWntf"
      },
      "source": [
        ""
      ]
    },
    {
      "cell_type": "code",
      "metadata": {
        "colab": {
          "base_uri": "https://localhost:8080/"
        },
        "id": "3oRQaqV-WW_B",
        "outputId": "f6640e97-f149-4d5b-c352-62b138bc7101"
      },
      "source": [
        "print(\"How many KM did you walk today?\")\n",
        "# by default input return string input\n",
        "kms = float(input())\n",
        "miles = kms/1.61\n",
        "# precisions\n",
        "miles = round(miles, 3)\n",
        "print(f\"Your {kms} KM is {miles} Miles\")"
      ],
      "execution_count": 14,
      "outputs": [
        {
          "output_type": "stream",
          "text": [
            "How many KM did you walk today?\n",
            "21\n",
            "Your 21.0 KM is 13.043 Miles\n"
          ],
          "name": "stdout"
        }
      ]
    },
    {
      "cell_type": "code",
      "metadata": {
        "id": "D_Yyf-_vX5Tt"
      },
      "source": [
        ""
      ],
      "execution_count": null,
      "outputs": []
    }
  ]
}