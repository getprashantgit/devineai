{
  "nbformat": 4,
  "nbformat_minor": 0,
  "metadata": {
    "colab": {
      "name": "Untitled0.ipynb",
      "provenance": [],
      "authorship_tag": "ABX9TyNh95RhIqRr0vrCDHYq5elj",
      "include_colab_link": true
    },
    "kernelspec": {
      "name": "python3",
      "display_name": "Python 3"
    },
    "language_info": {
      "name": "python"
    }
  },
  "cells": [
    {
      "cell_type": "markdown",
      "metadata": {
        "id": "view-in-github",
        "colab_type": "text"
      },
      "source": [
        "<a href=\"https://colab.research.google.com/github/getprashantgit/devineai/blob/main/day1_o.ipynb\" target=\"_parent\"><img src=\"https://colab.research.google.com/assets/colab-badge.svg\" alt=\"Open In Colab\"/></a>"
      ]
    },
    {
      "cell_type": "code",
      "metadata": {
        "colab": {
          "base_uri": "https://localhost:8080/"
        },
        "id": "zkkvmW8MiIO8",
        "outputId": "94a69bda-8e67-4e59-bd82-719d4d5e309a"
      },
      "source": [
        "print(\"Which's your favorite company?\")\n",
        "color = input()\n",
        "print(\"Your company is: \" + color)"
      ],
      "execution_count": 2,
      "outputs": [
        {
          "output_type": "stream",
          "text": [
            "Which's your favorite company?\n",
            "divine\n",
            "Your company is: divine\n"
          ],
          "name": "stdout"
        }
      ]
    },
    {
      "cell_type": "markdown",
      "metadata": {
        "id": "dzZp9We1kGoG"
      },
      "source": [
        "conditions"
      ]
    },
    {
      "cell_type": "code",
      "metadata": {
        "colab": {
          "base_uri": "https://localhost:8080/"
        },
        "id": "QPDDZXwIiSMw",
        "outputId": "39156306-f836-4a5b-cd43-57de4499f364"
      },
      "source": [
        "name = \"hanumanji\"\n",
        "\n",
        "if name is \"hanumanji\":\n",
        "    print(\"First Name\")\n",
        "elif name is \"ramji\":\n",
        "    print(\"Last Name\")\n",
        "else:\n",
        "    print(\"Wrong Name\")\n",
        "\n",
        "name = \"ramji\"\n",
        "if name == \"hanumanji\":\n",
        "    print(\"First Name\")\n",
        "elif name == \"ramji\":\n",
        "    print(\"Last Name\")\n",
        "else:\n",
        "    print(\"Wrong Name\")"
      ],
      "execution_count": 4,
      "outputs": [
        {
          "output_type": "stream",
          "text": [
            "First Name\n",
            "Last Name\n"
          ],
          "name": "stdout"
        }
      ]
    },
    {
      "cell_type": "markdown",
      "metadata": {
        "id": "hgQnXBQtkLQk"
      },
      "source": [
        "multielif"
      ]
    },
    {
      "cell_type": "code",
      "metadata": {
        "colab": {
          "base_uri": "https://localhost:8080/"
        },
        "id": "GJ_yGukUjpUO",
        "outputId": "b68b5b81-f172-4107-e82c-caf1e80ef104"
      },
      "source": [
        "print(\"Give a rating on my work(out of 10)!\")\n",
        "rate = int(input())\n",
        "\n",
        "if rate is 10:\n",
        "    print(\"Excellent\")\n",
        "elif rate is 8:\n",
        "    print(\"Very Good\")\n",
        "elif rate is 6:\n",
        "    print(\"Good\")\n",
        "elif rate is 5:\n",
        "    print(\"Not Good\")\n",
        "elif rate is 3:\n",
        "    print(\"Bad\")\n",
        "else:\n",
        "    print(\"Rating should be in 1 to 10\")"
      ],
      "execution_count": 5,
      "outputs": [
        {
          "output_type": "stream",
          "text": [
            "Give a rating on my work(out of 10)!\n",
            "8\n",
            "Very Good\n"
          ],
          "name": "stdout"
        }
      ]
    },
    {
      "cell_type": "code",
      "metadata": {
        "colab": {
          "base_uri": "https://localhost:8080/"
        },
        "id": "pzIpq5ZLkz6g",
        "outputId": "e194ff3a-6dd1-4cf3-c3b9-ff7c6af5fafb"
      },
      "source": [
        "age, sex = 21, \"Female\"\n",
        "\n",
        "if age > 18 and sex is \"Female\":\n",
        "    print(\"Girlfriend\")\n",
        "else:\n",
        "    print(\"You dont have\")"
      ],
      "execution_count": 6,
      "outputs": [
        {
          "output_type": "stream",
          "text": [
            "Girlfriend\n"
          ],
          "name": "stdout"
        }
      ]
    },
    {
      "cell_type": "code",
      "metadata": {
        "colab": {
          "base_uri": "https://localhost:8080/"
        },
        "id": "wahwHXXWl5bC",
        "outputId": "33965e70-c74d-4810-bf13-52796900db6d"
      },
      "source": [
        "import random\n",
        "\n",
        "print(\"Rock...\")\n",
        "print(\"Paper...\")\n",
        "print(\"Scissor...\")\n",
        "\n",
        "options = [\"rock\", \"papers\", \"scissors\"]\n",
        "print(\"Enter Your Move:\")\n",
        "me = input()\n",
        "\n",
        "rand = random.randint(0, 2)\n",
        "pc = options[rand]\n",
        "\n",
        "player_one = me\n",
        "player_two = pc\n",
        "\n",
        "print(f\"You Choose: {me}, PC choose {pc}\")\n",
        "\n",
        "if player_one == player_two:\n",
        "    print(\"Draw\")\n",
        "elif player_one == \"rock\":\n",
        "    if player_two == \"scissors\":\n",
        "        print(\"You WON!\")\n",
        "    elif player_two == \"papers\":\n",
        "        print(\"PC WON!\")\n",
        "elif player_one == \"papers\":\n",
        "    if player_two == \"rock\":\n",
        "        print(\"You WON!\")\n",
        "    elif player_two == \"scissors\":\n",
        "        print(\"PC WON!\")\n",
        "elif player_one == \"scissors\":\n",
        "    if player_two == \"rock\":\n",
        "        print(\"PC WON!\")\n",
        "    elif player_two == \"papers\":\n",
        "        print(\"You WON\")\n",
        "else:\n",
        "    print(\"Something Wrong!\")"
      ],
      "execution_count": 7,
      "outputs": [
        {
          "output_type": "stream",
          "text": [
            "Rock...\n",
            "Paper...\n",
            "Scissor...\n",
            "Enter Your Move:\n",
            "Rock\n",
            "You Choose: Rock, PC choose scissors\n",
            "Something Wrong!\n"
          ],
          "name": "stdout"
        }
      ]
    },
    {
      "cell_type": "code",
      "metadata": {
        "id": "KpfYiEVKpmfw"
      },
      "source": [
        ""
      ],
      "execution_count": null,
      "outputs": []
    }
  ]
}